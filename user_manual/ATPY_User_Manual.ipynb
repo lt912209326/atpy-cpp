{
 "cells": [
  {
   "cell_type": "markdown",
   "id": "10673f7b",
   "metadata": {},
   "source": [
    "# ATPY User Muanual"
   ]
  },
  {
   "cell_type": "markdown",
   "id": "49923033",
   "metadata": {},
   "source": [
    "## Element Definitions"
   ]
  },
  {
   "cell_type": "code",
   "execution_count": 1,
   "id": "68a15599",
   "metadata": {
    "ExecuteTime": {
     "end_time": "2024-03-31T02:28:59.832768Z",
     "start_time": "2024-03-31T02:28:59.814776Z"
    },
    "code_folding": [
     0
    ]
   },
   "outputs": [],
   "source": [
    "#  Marker,Drift,ExactDrift, Dipole, Quadrupole, Sextupole, Octupole, Tuning\n",
    "# Line BeamLine\n",
    "# Status\n",
    "# tws_index, kwd_index, loc_index, glb_index\n"
   ]
  },
  {
   "cell_type": "markdown",
   "id": "b4686c43",
   "metadata": {},
   "source": [
    "### Directly define element"
   ]
  },
  {
   "cell_type": "code",
   "execution_count": 3,
   "id": "fec4be14",
   "metadata": {
    "ExecuteTime": {
     "end_time": "2024-03-31T02:29:35.161339Z",
     "start_time": "2024-03-31T02:29:35.136338Z"
    },
    "code_folding": []
   },
   "outputs": [],
   "source": [
    "#-*- for folding -*-\n",
    "from atpy import*\n",
    "FM = Marker(\"FM\",)\n",
    "F1 = Marker(\"F1\",)\n",
    "LSB2 = Drift(\"LSB2\",l=1.95227266)\n",
    "LSB1 = Drift(\"LSB1\",l=1.46167866)\n",
    "LSX = Drift(\"LSX\",l=0.40000000)\n",
    "LSA2 = Drift(\"LSA2\",l=2.55416484)\n",
    "LSA1 = Drift(\"LSA1\",l=2.84837711)\n",
    "LX03 = Drift(\"LX03\",l=0.10000000)\n",
    "DTUNE0 = Drift(\"DTUNE0\",l=0.78648950)\n",
    "B1 = Dipole(\"B1\",l=0.50670849, angle=0.03378057, k1=0.00000000, e1=0.50000000, e2=0.50000000)\n",
    "QSA5 = Quadrupole(\"QSA5\",l=0.30000000, k1=-0.84186052)\n",
    "QSA4 = Quadrupole(\"QSA4\",l=0.30000000, k1=1.49711117)\n",
    "QSA3 = Quadrupole(\"QSA3\",l=0.30000000, k1=-1.65566620)\n",
    "QSA2 = Quadrupole(\"QSA2\",l=0.30000000, k1=1.63095422)\n",
    "QSA1 = Quadrupole(\"QSA1\",l=0.30000000, k1=-1.70081304)\n",
    "QF = Quadrupole(\"QF\",l=0.30000000, k1=1.53040414)\n",
    "QD = Quadrupole(\"QD\",l=0.30000000, k1=-1.52453199)\n",
    "SF = Sextupole(\"SF\",l=0.20000000, k2=33.88427102)\n",
    "SD = Sextupole(\"SD\",l=0.20000000, k2=-62.31467841)\n",
    "SF1 = Sextupole(\"SF1\",l=0.20000000, k2=33.88427102)\n",
    "SD1 = Sextupole(\"SD1\",l=0.20000000, k2=-62.31467841)\n",
    "SF2 = Sextupole(\"SF2\",l=0.20000000, k2=33.88427102)\n",
    "SD2 = Sextupole(\"SD2\",l=0.20000000, k2=-62.31467841)\n",
    "SUPP = Line(\"SUPP\",LSA1, QSA1, LSA2, QSA2, LSX, B1, LSX, QSA3, LSB1, QSA4, LSB2, QSA5, FM)\n",
    "FREEFODO = Line(\"FREEFODO\",F1, QF, LSX, DTUNE0, B1, DTUNE0, LSX, QD, LSX, DTUNE0, B1, DTUNE0, LSX)\n",
    "\n",
    "FODOX1 = Line(\"FODOX1\",F1, QF, LX03, SF1, LX03, DTUNE0, B1, DTUNE0, LSX, QD, LSX, DTUNE0, B1, DTUNE0, LSX)\n",
    "FODOXY1 = Line(\"FODOXY1\",F1, QF, LX03, SF1, LX03, DTUNE0, B1, DTUNE0, LSX, QD, LX03, SD1, LX03, DTUNE0, B1, DTUNE0, LSX)\n",
    "FODOY1 = Line(\"FODOY1\",F1, QF, LSX, DTUNE0, B1, DTUNE0, LSX, QD, LX03, SD1, LX03, DTUNE0, B1, DTUNE0, LSX)\n",
    "FODOX2 = Line(\"FODOX2\",F1, QF, LX03, SF2, LX03, DTUNE0, B1, DTUNE0, LSX, QD, LSX, DTUNE0, B1, DTUNE0, LSX)\n",
    "FODOXY2 = Line(\"FODOXY2\",F1, QF, LX03, SF2, LX03, DTUNE0, B1, DTUNE0, LSX, QD, LX03, SD2, LX03, DTUNE0, B1, DTUNE0, LSX)\n",
    "FODOY2 = Line(\"FODOY2\",F1, QF, LSX, DTUNE0, B1, DTUNE0, LSX, QD, LX03, SD2, LX03, DTUNE0, B1, DTUNE0, LSX)\n",
    "\n",
    "FIVEFODO1 = Line(\"FIVEFODO1\",FODOX1, FREEFODO, FODOXY1, FREEFODO, FODOY1)\n",
    "FIVEFODO2 = Line(\"FIVEFODO2\",FODOX2, FREEFODO, FODOXY2, FREEFODO, FODOY2)\n",
    "ARC = Line(\"ARC\",-SUPP, FIVEFODO1,FIVEFODO2, FIVEFODO1,FIVEFODO2,FIVEFODO1,FIVEFODO2, QF, SUPP)\n",
    "\n",
    "\n",
    "stat=Status( second_order_chrom=True, track_lines=9, monitor_dp=0.02, \n",
    "            fast_2nd_order_RDTs=True, max_betax=277.56, max_etax=0.592, third_order_chrom=True, dp=0.00035, rf_dp=0.017, npara=5, \n",
    "            computedrivingterms=True, period=  True, track_turns=500 )\n",
    "tws0={'betax': 6.000000e-02, 'betay': 6.000000e-04}\n",
    "RING=BeamLine(\"RING\",stat,FREEFODO,**tws0)"
   ]
  },
  {
   "cell_type": "markdown",
   "id": "eda814b0",
   "metadata": {},
   "source": [
    "### simply difine with translate (without writing element name twice)"
   ]
  },
  {
   "cell_type": "code",
   "execution_count": 14,
   "id": "c2833756",
   "metadata": {
    "ExecuteTime": {
     "end_time": "2024-03-31T02:34:06.093423Z",
     "start_time": "2024-03-31T02:34:06.074408Z"
    },
    "code_folding": [
     1
    ]
   },
   "outputs": [],
   "source": [
    "#-*- for folding -*-\n",
    "lat=r\"\"\"\n",
    "    from atpy import*\n",
    "    FM   = Marker()\n",
    "    F1   = Marker()\n",
    "    LSB2     = Drift(l=1.95227266)\n",
    "    LSB1     = Drift(l=1.46167866)\n",
    "    LSX  = Drift(l=0.40000000)\n",
    "    LSA2     = Drift(l=2.55416484)\n",
    "    LSA1     = Drift(l=2.84837711)\n",
    "    LX03     = Drift(l=0.10000000)\n",
    "    DTUNE0   = Drift(l=0.78648950)\n",
    "    B1   = Dipole(l=0.50670849, angle=0.03378057, k1=0.00000000, e1=0.50000000, e2=0.50000000)\n",
    "    QSA5     = Quadrupole(l=0.30000000, k1=-0.84186052)\n",
    "    QSA4     = Quadrupole(l=0.30000000, k1=1.49711117)\n",
    "    QSA3     = Quadrupole(l=0.30000000, k1=-1.65566620)\n",
    "    QSA2     = Quadrupole(l=0.30000000, k1=1.63095422)\n",
    "    QSA1     = Quadrupole(l=0.30000000, k1=-1.70081304)\n",
    "    QF   = Quadrupole(l=0.30000000, k1=1.53040414)\n",
    "    QD   = Quadrupole(l=0.30000000, k1=-1.52453199)\n",
    "    SF   = Sextupole(l=0.20000000, k2=33.88427102)\n",
    "    SD   = Sextupole(l=0.20000000, k2=-62.31467841)\n",
    "    SF1   = Sextupole(l=0.20000000, k2=33.88427102)\n",
    "    SD1   = Sextupole(l=0.20000000, k2=-62.31467841)\n",
    "    SF2   = Sextupole(l=0.20000000, k2=33.88427102)\n",
    "    SD2   = Sextupole(l=0.20000000, k2=-62.31467841)\n",
    "    SUPP     = Line(LSA1, QSA1, LSA2, QSA2, LSX, B1, LSX, QSA3, LSB1, QSA4, LSB2, QSA5, FM)\n",
    "    FREEFODO     = Line(F1, QF, LSX, DTUNE0, B1, DTUNE0, LSX, QD, LSX, DTUNE0, B1, DTUNE0, LSX)\n",
    "    FODOXY   = Line(F1, QF, LX03, SF, LX03, DTUNE0, B1, DTUNE0, LSX, QD, LX03, SD, LX03, DTUNE0, B1, DTUNE0, LSX)\n",
    "    \n",
    "    FODOX1    = Line(F1, QF, LX03, SF1, LX03, DTUNE0, B1, DTUNE0, LSX, QD, LSX, DTUNE0, B1, DTUNE0, LSX)\n",
    "    FODOXY1   = Line(F1, QF, LX03, SF1, LX03, DTUNE0, B1, DTUNE0, LSX, QD, LX03, SD1, LX03, DTUNE0, B1, DTUNE0, LSX)\n",
    "    FODOY1    = Line(F1, QF, LSX, DTUNE0, B1, DTUNE0, LSX, QD, LX03, SD1, LX03, DTUNE0, B1, DTUNE0, LSX)\n",
    "    FODOX2    = Line(F1, QF, LX03, SF2, LX03, DTUNE0, B1, DTUNE0, LSX, QD, LSX, DTUNE0, B1, DTUNE0, LSX)\n",
    "    FODOXY2   = Line(F1, QF, LX03, SF2, LX03, DTUNE0, B1, DTUNE0, LSX, QD, LX03, SD2, LX03, DTUNE0, B1, DTUNE0, LSX)\n",
    "    FODOY2    = Line(F1, QF, LSX, DTUNE0, B1, DTUNE0, LSX, QD, LX03, SD2, LX03, DTUNE0, B1, DTUNE0, LSX)\n",
    "    \n",
    "    FIVEFODO1     = Line(FODOX1, FREEFODO, FODOXY1, FREEFODO, FODOY1)\n",
    "    FIVEFODO2     = Line(FODOX2, FREEFODO, FODOXY2, FREEFODO, FODOY2)\n",
    "    ARC  = Line(-SUPP, FIVEFODO1,FIVEFODO2, FIVEFODO1,FIVEFODO2,FIVEFODO1,FIVEFODO2, QF, SUPP)\n",
    "\"\"\"\n",
    "\n",
    "from atpy import*\n",
    "# translate str to python script\n",
    "translate(lat)\n",
    "# import the \n",
    "from atpy.tools.translate import*\n",
    "\n",
    "tws0=dict(betax=10.34965253,   alphax=-2.38935827, betay=1.963445526,  alphay=0.5242721964  ,etax=0.2846300877, etapx= 0.06610030865)\n",
    "RING=BeamLine(\"RING\",stat,FODOXY,**tws0)"
   ]
  },
  {
   "cell_type": "code",
   "execution_count": 34,
   "id": "2818cb38",
   "metadata": {
    "ExecuteTime": {
     "end_time": "2024-03-31T02:52:26.331987Z",
     "start_time": "2024-03-31T02:52:26.315956Z"
    }
   },
   "outputs": [],
   "source": [
    "RING?"
   ]
  },
  {
   "cell_type": "markdown",
   "id": "fa14a216",
   "metadata": {},
   "source": [
    "## BeamLine method"
   ]
  },
  {
   "cell_type": "markdown",
   "id": "5767858a",
   "metadata": {},
   "source": [
    "```cython\n",
    "eval(self, str expr)\n",
    "parse(self,str code)\n",
    "save(self)              :\n",
    "evolution(self,double[:,:] variables, double[:,:] objectives, double[:,:] CV )\n",
    "calc(self)\n",
    "findclosedorbit(self, double dp)\n",
    "highorderchromaticity(self,double dp0=0.0001 )\n",
    "compute_large_off_momentum_tunes(self)\n",
    "correctchrom(self, dQx=None, dQy =None)\n",
    "compute_off_momentum_twiss(self, list dp_range, double dp_step=1e-4, local_twiss=True)\n",
    "compute_off_momentum_RDTs(self)\n",
    "track(self, double[:,::1] beam0, int start_pos=0, int end_pos=-1, int nturn0=1,int nturn1=1)\n",
    "display(self,str token,bint detail=False)\n",
    "export(self,str filename, str filetype=\"atpy\")\n",
    "str(self,str filetype=\"atpy\")\n",
    "```"
   ]
  },
  {
   "cell_type": "markdown",
   "id": "cc8aac35",
   "metadata": {},
   "source": [
    "## match  or optimize"
   ]
  },
  {
   "cell_type": "code",
   "execution_count": 15,
   "id": "33ee1ccd",
   "metadata": {
    "ExecuteTime": {
     "end_time": "2024-03-31T02:34:12.708182Z",
     "start_time": "2024-03-31T02:34:12.690184Z"
    },
    "code_folding": [
     0,
     1
    ]
   },
   "outputs": [
    {
     "name": "stdout",
     "output_type": "stream",
     "text": [
      "VAR                           total:    2    CoVar:        0\n",
      "============================================================\n",
      "0   :QF[0].k1                             0.0            2.5\n",
      "1   :QD[0].k1                            -2.5            0.0\n",
      "============================================================\n",
      "CONSTRAINT                    total:                       1\n",
      "============================================================\n",
      "0   :DIM(ABS(END[0].R11+END[0].R22),2)+DIM(ABS(END[0].R33+END[0].R44),2)\n",
      "============================================================\n",
      "OPTIMIZE                      total:                       2\n",
      "============================================================\n",
      "0   :DIM(ABS(END[0].nux-0.25),1E-8)                  MINIMIZE\n",
      "1   :DIM(ABS(END[0].nuy-0.25),1E-8)                  MINIMIZE\n",
      "============================================================\n"
     ]
    }
   ],
   "source": [
    "#-*- for folding -*-\n",
    "token=\"\"\"\n",
    "    VAR,NAME=QF[0].k1, LOWER=0, UPPER=4,STEP=1e-6 ;\n",
    "    VAR,NAME=QD[0].k1, LOWER=-4, UPPER=0,STEP=1e-6 ;\n",
    "    \n",
    "        # CONSTRAINT,EXPR:= DIM(ABS(END[0].nux-0.25),1E-4);\n",
    "    \n",
    "        # CONSTRAINT,EXPR:=  DIM(ABS(END[0].nuy-0.25),1E-4);\n",
    "    \n",
    "    OPTIMIZE,EXPR:= DIM(ABS(END[0].nux-0.25),1E-8);\n",
    "    \n",
    "    OPTIMIZE,EXPR:=  DIM(ABS(END[0].nuy-0.25),1E-8);\n",
    "    \n",
    "    CHROM,AIM_DQX=0,KNOB=SF;\n",
    "    CHROM,AIM_DQY=0,KNOB=SD;\n",
    "\"\"\"\n",
    "\n",
    "# set match or optimization configures\n",
    "RING.parse(token)\n",
    "\n",
    "# get variable info. current value, lower bounds, upper bounds, step\n",
    "values,_,_,_=RING[\"VAR\"]\n",
    "\n",
    "# if use multi-thread, else no need to set \n",
    "RING.set_parallel(8)\n",
    "\n",
    "\n",
    "# set new bounds if more concrete bounds is got\n",
    "RING[\"VAR\"]=[[0,2.5],\n",
    "             [-2.5,0]]\n",
    "\n",
    "#select the method of resonance driving terms calculation \n",
    "RING[\"fast_2nd_order_RDTs\"]=True\n",
    "\n",
    "# show the variable, constraint and optimization info.\n",
    "RING.display(\"VAR\")\n",
    "RING.display(\"CONSTRAINT\")\n",
    "RING.display(\"OPTIMIZE\")"
   ]
  },
  {
   "cell_type": "code",
   "execution_count": 17,
   "id": "0b5df0fd",
   "metadata": {
    "ExecuteTime": {
     "end_time": "2024-03-31T02:34:44.168306Z",
     "start_time": "2024-03-31T02:34:41.967511Z"
    },
    "collapsed": true
   },
   "outputs": [
    {
     "name": "stdout",
     "output_type": "stream",
     "text": [
      "===================================================================================================================\n",
      "n_gen |  n_eval |   cv (min)   |   cv (avg)   |  n_nds  |     eps      |  indicator   |  obj (min)   |  obj (avg)  \n",
      "===================================================================================================================\n",
      "    1 |     100 |  0.00000E+00 |  1.263802675 |       2 |            - |            - |  0.008164683 |  5.20000E+09\n",
      "    2 |     200 |  0.00000E+00 |  0.093409117 |       5 |  0.060272863 |        ideal |  0.002318872 |  2.90000E+09\n",
      "    3 |     300 |  0.00000E+00 |  0.00000E+00 |       4 |  0.057350456 |        ideal |  2.61958E-06 |  0.074087190\n",
      "    4 |     400 |  0.00000E+00 |  0.00000E+00 |       7 |  0.073237054 |            f |  2.61958E-06 |  0.053980813\n",
      "    5 |     500 |  0.00000E+00 |  0.00000E+00 |      11 |  0.039045014 |        ideal |  2.61958E-06 |  0.041632312\n",
      "    6 |     600 |  0.00000E+00 |  0.00000E+00 |       9 |  0.054079124 |            f |  2.61958E-06 |  0.035001443\n",
      "    7 |     700 |  0.00000E+00 |  0.00000E+00 |       8 |  0.004143746 |        ideal |  2.61958E-06 |  0.032142811\n",
      "    8 |     800 |  0.00000E+00 |  0.00000E+00 |       9 |  0.005881833 |        ideal |  2.61958E-06 |  0.030249652\n",
      "    9 |     900 |  0.00000E+00 |  0.00000E+00 |      15 |  0.029750367 |            f |  2.61958E-06 |  0.026380715\n",
      "   10 |    1000 |  0.00000E+00 |  0.00000E+00 |      11 |  0.012744564 |            f |  2.61958E-06 |  0.024046756\n",
      "   11 |    1100 |  0.00000E+00 |  0.00000E+00 |       8 |  0.014205649 |            f |  2.61958E-06 |  0.023841221\n",
      "   12 |    1200 |  0.00000E+00 |  0.00000E+00 |       5 |  0.004657087 |            f |  2.61958E-06 |  0.021686091\n",
      "   13 |    1300 |  0.00000E+00 |  0.00000E+00 |       6 |  0.004388574 |            f |  2.61958E-06 |  0.020975159\n",
      "   14 |    1400 |  0.00000E+00 |  0.00000E+00 |       7 |  0.010277058 |            f |  2.61958E-06 |  0.019543543\n",
      "   15 |    1500 |  0.00000E+00 |  0.00000E+00 |       7 |  0.00000E+00 |            f |  2.61958E-06 |  0.018541082\n",
      "   16 |    1600 |  0.00000E+00 |  0.00000E+00 |       8 |  1.712976026 |        nadir |  2.06698E-06 |  0.015682026\n",
      "   17 |    1700 |  0.00000E+00 |  0.00000E+00 |       7 |  0.001695477 |            f |  2.06698E-06 |  0.015163615\n",
      "   18 |    1800 |  0.00000E+00 |  0.00000E+00 |       7 |  0.00000E+00 |            f |  2.06698E-06 |  0.014398217\n",
      "   19 |    1900 |  0.00000E+00 |  0.00000E+00 |       7 |  0.00000E+00 |            f |  2.06698E-06 |  0.012771185\n",
      "   20 |    2000 |  0.00000E+00 |  0.00000E+00 |       9 |  6.35482E+01 |        nadir |  1.30363E-06 |  0.012438156\n",
      "   21 |    2100 |  0.00000E+00 |  0.00000E+00 |      10 |  0.000015944 |            f |  1.30363E-06 |  0.011547381\n",
      "   22 |    2200 |  0.00000E+00 |  0.00000E+00 |      10 |  0.00000E+00 |            f |  1.30363E-06 |  0.011214675\n",
      "   23 |    2300 |  0.00000E+00 |  0.00000E+00 |      10 |  0.00000E+00 |            f |  1.30363E-06 |  0.010990192\n",
      "   24 |    2400 |  0.00000E+00 |  0.00000E+00 |      12 |  0.009358188 |            f |  1.30363E-06 |  0.009440949\n",
      "   25 |    2500 |  0.00000E+00 |  0.00000E+00 |      15 |  0.001742199 |            f |  1.30363E-06 |  0.008745836\n",
      "   26 |    2600 |  0.00000E+00 |  0.00000E+00 |      16 |  0.007338578 |            f |  1.30363E-06 |  0.007559581\n",
      "   27 |    2700 |  0.00000E+00 |  0.00000E+00 |      19 |  0.012822404 |            f |  1.30363E-06 |  0.006507616\n",
      "   28 |    2800 |  0.00000E+00 |  0.00000E+00 |      11 |  0.017897540 |            f |  1.30363E-06 |  0.006459725\n",
      "   29 |    2900 |  0.00000E+00 |  0.00000E+00 |       9 |  0.017967390 |            f |  1.30363E-06 |  0.006345937\n",
      "   30 |    3000 |  0.00000E+00 |  0.00000E+00 |       9 |  0.00000E+00 |            f |  1.30363E-06 |  0.005657054\n",
      "   31 |    3100 |  0.00000E+00 |  0.00000E+00 |       9 |  0.00000E+00 |            f |  1.30363E-06 |  0.005558588\n",
      "   32 |    3200 |  0.00000E+00 |  0.00000E+00 |      12 |  0.011939510 |            f |  1.30363E-06 |  0.005458297\n",
      "   33 |    3300 |  0.00000E+00 |  0.00000E+00 |      12 |  0.001753931 |            f |  1.30363E-06 |  0.004779408\n",
      "   34 |    3400 |  0.00000E+00 |  0.00000E+00 |      13 |  0.000025245 |            f |  1.30363E-06 |  0.004214007\n",
      "   35 |    3500 |  0.00000E+00 |  0.00000E+00 |      14 |  0.004518414 |            f |  1.30363E-06 |  0.004069964\n",
      "   36 |    3600 |  0.00000E+00 |  0.00000E+00 |      14 |  0.000120860 |            f |  1.30363E-06 |  0.004135090\n",
      "   37 |    3700 |  0.00000E+00 |  0.00000E+00 |      13 |  0.002291231 |            f |  1.30363E-06 |  0.003625245\n",
      "   38 |    3800 |  0.00000E+00 |  0.00000E+00 |      14 |  0.000129197 |            f |  1.30363E-06 |  0.003642723\n",
      "   39 |    3900 |  0.00000E+00 |  0.00000E+00 |      16 |  0.000464947 |            f |  1.30363E-06 |  0.003383266\n",
      "   40 |    4000 |  0.00000E+00 |  0.00000E+00 |      17 |  0.000168901 |            f |  1.30363E-06 |  0.003424688\n",
      "   41 |    4100 |  0.00000E+00 |  0.00000E+00 |      18 |  0.002005320 |            f |  1.30363E-06 |  0.003290341\n",
      "   42 |    4200 |  0.00000E+00 |  0.00000E+00 |      14 |  0.003674509 |            f |  1.30363E-06 |  0.003310437\n",
      "   43 |    4300 |  0.00000E+00 |  0.00000E+00 |      14 |  0.000715253 |            f |  1.30363E-06 |  0.003040879\n",
      "   44 |    4400 |  0.00000E+00 |  0.00000E+00 |      15 |  0.000475635 |            f |  1.30363E-06 |  0.003021962\n",
      "   45 |    4500 |  0.00000E+00 |  0.00000E+00 |      13 |  0.001821922 |            f |  1.30363E-06 |  0.003101188\n",
      "   46 |    4600 |  0.00000E+00 |  0.00000E+00 |      13 |  0.00000E+00 |            f |  1.30363E-06 |  0.002809349\n",
      "   47 |    4700 |  0.00000E+00 |  0.00000E+00 |      13 |  0.00000E+00 |            f |  1.30363E-06 |  0.002917960\n",
      "   48 |    4800 |  0.00000E+00 |  0.00000E+00 |      14 |  0.000156549 |            f |  1.30363E-06 |  0.002989476\n",
      "   49 |    4900 |  0.00000E+00 |  0.00000E+00 |      13 |  2.653548853 |        nadir |  3.32857E-07 |  0.002878592\n",
      "   50 |    5000 |  0.00000E+00 |  0.00000E+00 |      14 |  0.000432328 |            f |  3.32857E-07 |  0.002672013\n",
      "   51 |    5100 |  0.00000E+00 |  0.00000E+00 |      16 |  0.001986216 |            f |  3.32857E-07 |  0.002544866\n",
      "   52 |    5200 |  0.00000E+00 |  0.00000E+00 |      17 |  0.007337582 |            f |  3.32857E-07 |  0.002451850\n",
      "   53 |    5300 |  0.00000E+00 |  0.00000E+00 |      12 |  0.002710355 |            f |  3.32857E-07 |  0.002318304\n",
      "   54 |    5400 |  0.00000E+00 |  0.00000E+00 |      13 |  0.000138722 |            f |  3.32857E-07 |  0.002314903\n",
      "   55 |    5500 |  0.00000E+00 |  0.00000E+00 |      13 |  0.000605860 |            f |  3.32857E-07 |  0.001683433\n",
      "   56 |    5600 |  0.00000E+00 |  0.00000E+00 |      13 |  0.00000E+00 |            f |  3.32857E-07 |  0.001557465\n",
      "   57 |    5700 |  0.00000E+00 |  0.00000E+00 |      13 |  0.003623928 |            f |  3.32857E-07 |  0.001391984\n",
      "   58 |    5800 |  0.00000E+00 |  0.00000E+00 |      14 |  0.000503822 |            f |  3.32857E-07 |  0.001307942\n",
      "   59 |    5900 |  0.00000E+00 |  0.00000E+00 |      14 |  0.00000E+00 |            f |  3.32857E-07 |  0.001304002\n",
      "   60 |    6000 |  0.00000E+00 |  0.00000E+00 |      14 |  0.000509325 |            f |  3.32857E-07 |  0.001238105\n",
      "   61 |    6100 |  0.00000E+00 |  0.00000E+00 |      17 |  0.726149090 |        nadir |  3.13276E-07 |  0.001257502\n",
      "   62 |    6200 |  0.00000E+00 |  0.00000E+00 |      18 |  0.015955677 |        nadir |  2.43430E-07 |  0.001217879\n",
      "   63 |    6300 |  0.00000E+00 |  0.00000E+00 |      18 |  0.00000E+00 |            f |  2.43430E-07 |  0.001165631\n",
      "   64 |    6400 |  0.00000E+00 |  0.00000E+00 |      19 |  0.002892976 |            f |  2.43430E-07 |  0.001026500\n",
      "   65 |    6500 |  0.00000E+00 |  0.00000E+00 |      18 |  0.000185457 |            f |  2.43430E-07 |  0.001033792\n",
      "   66 |    6600 |  0.00000E+00 |  0.00000E+00 |      19 |  0.000018079 |            f |  2.43430E-07 |  0.001029220\n",
      "   67 |    6700 |  0.00000E+00 |  0.00000E+00 |      20 |  0.012352826 |            f |  2.43430E-07 |  0.001007269\n",
      "   68 |    6800 |  0.00000E+00 |  0.00000E+00 |      20 |  0.00000E+00 |            f |  2.43430E-07 |  0.000996451\n",
      "   69 |    6900 |  0.00000E+00 |  0.00000E+00 |      21 |  0.000144901 |            f |  2.43430E-07 |  0.000972400\n",
      "   70 |    7000 |  0.00000E+00 |  0.00000E+00 |      18 |  0.000878906 |            f |  2.43430E-07 |  0.001026582\n",
      "   71 |    7100 |  0.00000E+00 |  0.00000E+00 |      19 |  0.012493125 |            f |  2.43430E-07 |  0.001027920\n",
      "   72 |    7200 |  0.00000E+00 |  0.00000E+00 |      18 |  0.020117683 |        nadir |  8.92883E-08 |  0.000938433\n",
      "   73 |    7300 |  0.00000E+00 |  0.00000E+00 |      17 |  0.000155775 |            f |  8.92883E-08 |  0.000919315\n",
      "   74 |    7400 |  0.00000E+00 |  0.00000E+00 |      18 |  0.000049583 |            f |  8.92883E-08 |  0.000878588\n"
     ]
    },
    {
     "name": "stdout",
     "output_type": "stream",
     "text": [
      "   75 |    7500 |  0.00000E+00 |  0.00000E+00 |      14 |  0.000711318 |            f |  8.92883E-08 |  0.000860683\n",
      "   76 |    7600 |  0.00000E+00 |  0.00000E+00 |      15 |  0.001485161 |            f |  8.92883E-08 |  0.000847273\n",
      "   77 |    7700 |  0.00000E+00 |  0.00000E+00 |      16 |  0.000075893 |            f |  8.92883E-08 |  0.000848108\n",
      "   78 |    7800 |  0.00000E+00 |  0.00000E+00 |      16 |  0.000250360 |            f |  8.92883E-08 |  0.000832434\n",
      "   79 |    7900 |  0.00000E+00 |  0.00000E+00 |      16 |  0.001188930 |            f |  8.92883E-08 |  0.000727910\n",
      "   80 |    8000 |  0.00000E+00 |  0.00000E+00 |      16 |  0.00000E+00 |            f |  8.92883E-08 |  0.000670877\n",
      "   81 |    8100 |  0.00000E+00 |  0.00000E+00 |      16 |  0.00000E+00 |            f |  8.92883E-08 |  0.000662236\n",
      "   82 |    8200 |  0.00000E+00 |  0.00000E+00 |      16 |  0.232606982 |        nadir |  8.92883E-08 |  0.000739160\n",
      "   83 |    8300 |  0.00000E+00 |  0.00000E+00 |      14 |  0.000422578 |            f |  8.92883E-08 |  0.000735516\n",
      "   84 |    8400 |  0.00000E+00 |  0.00000E+00 |      13 |  0.000072824 |            f |  8.92883E-08 |  0.000726078\n",
      "   85 |    8500 |  0.00000E+00 |  0.00000E+00 |      13 |  0.00000E+00 |            f |  8.92883E-08 |  0.000719618\n",
      "   86 |    8600 |  0.00000E+00 |  0.00000E+00 |      13 |  0.00000E+00 |            f |  8.92883E-08 |  0.000717787\n",
      "   87 |    8700 |  0.00000E+00 |  0.00000E+00 |      14 |  0.000011436 |            f |  8.92883E-08 |  0.000714228\n",
      "   88 |    8800 |  0.00000E+00 |  0.00000E+00 |      14 |  0.000246568 |            f |  8.92883E-08 |  0.000653403\n",
      "   89 |    8900 |  0.00000E+00 |  0.00000E+00 |      14 |  0.000316417 |            f |  8.92883E-08 |  0.000638536\n",
      "   90 |    9000 |  0.00000E+00 |  0.00000E+00 |      15 |  0.000429723 |            f |  8.92883E-08 |  0.000712430\n",
      "   91 |    9100 |  0.00000E+00 |  0.00000E+00 |      15 |  0.00000E+00 |            f |  8.92883E-08 |  0.000703728\n",
      "   92 |    9200 |  0.00000E+00 |  0.00000E+00 |      16 |  0.000080028 |            f |  8.92883E-08 |  0.000709190\n",
      "   93 |    9300 |  0.00000E+00 |  0.00000E+00 |      16 |  0.00000E+00 |            f |  8.92883E-08 |  0.000627395\n",
      "   94 |    9400 |  0.00000E+00 |  0.00000E+00 |      12 |  0.000567007 |            f |  8.92883E-08 |  0.000666323\n",
      "   95 |    9500 |  0.00000E+00 |  0.00000E+00 |      11 |  0.000231692 |            f |  8.92883E-08 |  0.000665621\n",
      "   96 |    9600 |  0.00000E+00 |  0.00000E+00 |      12 |  0.000083663 |            f |  8.92883E-08 |  0.000672643\n",
      "   97 |    9700 |  0.00000E+00 |  0.00000E+00 |      12 |  0.00000E+00 |            f |  8.92883E-08 |  0.000665769\n",
      "   98 |    9800 |  0.00000E+00 |  0.00000E+00 |      13 |  0.000071426 |            f |  8.92883E-08 |  0.000662963\n",
      "   99 |    9900 |  0.00000E+00 |  0.00000E+00 |      13 |  0.00000E+00 |            f |  8.92883E-08 |  0.000654181\n",
      "  100 |   10000 |  0.00000E+00 |  0.00000E+00 |      13 |  0.00000E+00 |            f |  8.92883E-08 |  0.000634240\n"
     ]
    },
    {
     "data": {
      "text/plain": [
       "<pymoo.visualization.scatter.Scatter at 0x279e7331dc0>"
      ]
     },
     "execution_count": 17,
     "metadata": {},
     "output_type": "execute_result"
    },
    {
     "data": {
      "image/png": "[encoded data removed]",
      "text/plain": [
       "<Figure size 576x432 with 1 Axes>"
      ]
     },
     "metadata": {
      "needs_background": "light"
     },
     "output_type": "display_data"
    }
   ],
   "source": [
    "#-*- for folding -*-\n",
    "# multi-objective optimization\n",
    "res1,plot=optimize(RING)\n",
    "plot.show()\n",
    "# nelder-mead optimize usually used for match, need initial value\n",
    "res = match(RING)"
   ]
  },
  {
   "cell_type": "code",
   "execution_count": 32,
   "id": "64d558ca",
   "metadata": {
    "ExecuteTime": {
     "end_time": "2024-03-31T02:50:07.082841Z",
     "start_time": "2024-03-31T02:50:07.065841Z"
    }
   },
   "outputs": [],
   "source": []
  },
  {
   "cell_type": "markdown",
   "id": "4b75e20e",
   "metadata": {},
   "source": [
    "## Display"
   ]
  },
  {
   "cell_type": "code",
   "execution_count": 19,
   "id": "ea8142ee",
   "metadata": {
    "ExecuteTime": {
     "end_time": "2024-03-31T02:36:32.014456Z",
     "start_time": "2024-03-31T02:36:32.000433Z"
    }
   },
   "outputs": [
    {
     "name": "stdout",
     "output_type": "stream",
     "text": [
      "circumference       :        6.35937\n",
      "energy              :          2e+09\n",
      "emitx               :    3.37949e-09\n",
      "U0                  :        1.01505\n",
      "alphac              :     0.00208567\n",
      "e_spread            :    0.000442241\n",
      "Qx                  :       0.247276\n",
      "Qy                  :           0.25\n",
      "taux                :         83.584\n",
      "tauy                :         83.592\n",
      "tauz                :         41.798\n",
      "dQx                 :            0.0\n",
      "dQy                 :            0.0\n",
      "d2Qx                :            0.0\n",
      "d2Qy                :            0.0\n",
      "nature_chromx       :      -0.626678\n",
      "nature_chromy       :      -0.629882\n",
      "RI1                 :      0.0132636\n",
      "RI2                 :     0.00450408\n",
      "RI3                 :    0.000300272\n",
      "RI4                 :   -4.28359e-07\n",
      "RI5                 :    2.59466e-06\n",
      "spin                :       -0.92376\n",
      "damp_factor         :   -9.51048e-05\n",
      "Jx                  :         1.0001\n",
      "Jy                  :            1.0\n",
      "Jz                  :         1.9999\n"
     ]
    }
   ],
   "source": [
    "result1 = summary(RING,main=False)"
   ]
  },
  {
   "cell_type": "code",
   "execution_count": 20,
   "id": "555e69e4",
   "metadata": {
    "ExecuteTime": {
     "end_time": "2024-03-31T02:36:35.075069Z",
     "start_time": "2024-03-31T02:36:35.058039Z"
    }
   },
   "outputs": [
    {
     "name": "stdout",
     "output_type": "stream",
     "text": [
      "No.   Name          :             s             l         betax        alphax         betay        alphay          etax         etapx           nux           nuy\n",
      "0     START         :           0.0           nan      10.35038     -2.371824      1.968676      0.522018     0.2895522    0.06674815           0.0           0.0\n",
      "1     F1            :           0.0           nan      10.35038     -2.371824      1.968676      0.522018     0.2895522    0.06674815           0.0           0.0\n",
      "2     QF            :           0.3           0.3      10.35038      2.371824      1.968676     -0.522018     0.2895522   -0.06674815    0.00450921    0.02491118\n",
      "3     LX03          :           0.4           0.1      9.882419      2.307811      2.079543    -0.5866555     0.2828774   -0.06674815   0.006082894     0.0327803\n",
      "4     SF            :           0.6           0.2      8.984899      2.179786       2.34006    -0.7159305     0.2695278   -0.06674815   0.009461165    0.04722969\n",
      "5     LX03          :           0.7           0.1      8.555343      2.115773       2.48971     -0.780568      0.262853   -0.06674815    0.01127649    0.05382533\n",
      "6     DTUNE0        :       1.48649     0.7864895      5.623236      1.612321      4.117352     -1.288935     0.2103562   -0.06674815    0.02936223    0.09332535\n",
      "7     B1            :      1.993198     0.5067085      4.153886      1.288025      5.584097     -1.604066     0.1850985   -0.03296437    0.04607597     0.1101755\n",
      "8     DTUNE0        :      2.779687     0.7864895      2.523809     0.7845732      8.503053     -2.107307     0.1591723   -0.03296437    0.08512623     0.1283808\n",
      "9     LSX           :      3.179687           0.4       1.99857     0.5285229      10.29128      -2.36325     0.1459866   -0.03296437     0.1136243     0.1351883\n",
      "10    QD            :      3.479687           0.3       1.99857    -0.5285229      10.29128       2.36325     0.1459866    0.03296437      0.138161     0.1397232\n",
      "11    LX03          :      3.579687           0.1      2.110676    -0.5925355      9.825024      2.299264      0.149283    0.03296437     0.1459132      0.141306\n",
      "12    SD            :      3.779687           0.2      2.373295    -0.7205606      8.930913      2.171292     0.1558759    0.03296437     0.1601543     0.1447044\n",
      "13    LX03          :      3.879687           0.1      2.523809    -0.7845732      8.503053      2.107307     0.1591723    0.03296437     0.1666591     0.1465308\n",
      "14    DTUNE0        :      4.666177     0.7864895      4.153886     -1.288025      5.584097      1.604066     0.1850985    0.03296437     0.2057094      0.164736\n",
      "15    B1            :      5.172885     0.5067085      5.623236     -1.612321      4.117352      1.288935     0.2103562    0.06674815     0.2224231     0.1815862\n",
      "16    DTUNE0        :      5.959375     0.7864895      8.555343     -2.115773       2.48971      0.780568      0.262853    0.06674815     0.2405089     0.2210862\n",
      "17    LSX           :      6.359375           0.4      10.35038     -2.371824      1.968676      0.522018     0.2895522    0.06674815     0.2472761     0.2500003\n",
      "18    END           :      6.359375           nan      10.35038     -2.371824      1.968676      0.522018     0.2895522    0.06674815     0.2472761     0.2500003\n"
     ]
    }
   ],
   "source": [
    "display(RING)"
   ]
  },
  {
   "cell_type": "code",
   "execution_count": 23,
   "id": "5028e062",
   "metadata": {
    "ExecuteTime": {
     "end_time": "2024-03-31T02:39:49.766143Z",
     "start_time": "2024-03-31T02:39:49.357087Z"
    }
   },
   "outputs": [
    {
     "data": {
      "image/png": "[encoded data removed]",
      "text/plain": [
       "<Figure size 600x400 with 3 Axes>"
      ]
     },
     "metadata": {
      "needs_background": "light"
     },
     "output_type": "display_data"
    }
   ],
   "source": [
    "opti=OpticsPlot(RING )\n",
    "opti.draw([\"betax\",\"betay\",\"etax\",\"H0\"],dpi=100 )"
   ]
  },
  {
   "cell_type": "code",
   "execution_count": 31,
   "id": "52478b9a",
   "metadata": {
    "ExecuteTime": {
     "end_time": "2024-03-31T02:49:04.693615Z",
     "start_time": "2024-03-31T02:49:04.574616Z"
    }
   },
   "outputs": [
    {
     "data": {
      "image/png": "[encoded data removed]",
      "text/plain": [
       "<Figure size 600x400 with 1 Axes>"
      ]
     },
     "metadata": {
      "needs_background": "light"
     },
     "output_type": "display_data"
    }
   ],
   "source": [
    "layout= Layout()\n",
    "# [elem_type,x,y,theta,angle,length]\n",
    "kinds= [ elem[\"kind\"] for elem in RING[:] ]\n",
    "datas= RING[:,[\"Gx\",\"Gy\",\"thetax\",\"angle\",\"l\"] ][1].tolist()\n",
    "datas=  [ [kind] + datas[i] for i, kind in enumerate(kinds)]\n",
    "layout.add_beamline(datas)\n",
    "# datas"
   ]
  },
  {
   "cell_type": "code",
   "execution_count": null,
   "id": "af79188b",
   "metadata": {},
   "outputs": [],
   "source": []
  },
  {
   "cell_type": "code",
   "execution_count": null,
   "id": "772a25df",
   "metadata": {},
   "outputs": [],
   "source": []
  }
 ],
 "metadata": {
  "@webio": {
   "lastCommId": null,
   "lastKernelId": null
  },
  "kernelspec": {
   "display_name": "Python 3 (ipykernel)",
   "language": "python",
   "name": "python3"
  },
  "language_info": {
   "codemirror_mode": {
    "name": "ipython",
    "version": 3
   },
   "file_extension": ".py",
   "mimetype": "text/x-python",
   "name": "python",
   "nbconvert_exporter": "python",
   "pygments_lexer": "ipython3",
   "version": "3.9.13"
  },
  "latex_envs": {
   "LaTeX_envs_menu_present": true,
   "autoclose": false,
   "autocomplete": true,
   "bibliofile": "biblio.bib",
   "cite_by": "apalike",
   "current_citInitial": 1,
   "eqLabelWithNumbers": true,
   "eqNumInitial": 1,
   "hotkeys": {
    "equation": "Ctrl-E",
    "itemize": "Ctrl-I"
   },
   "labels_anchors": false,
   "latex_user_defs": false,
   "report_style_numbering": false,
   "user_envs_cfg": false
  },
  "toc": {
   "base_numbering": 1,
   "nav_menu": {},
   "number_sections": true,
   "sideBar": true,
   "skip_h1_title": false,
   "title_cell": "Table of Contents",
   "title_sidebar": "Contents",
   "toc_cell": false,
   "toc_position": {},
   "toc_section_display": true,
   "toc_window_display": false
  },
  "varInspector": {
   "cols": {
    "lenName": 16,
    "lenType": 16,
    "lenVar": 40
   },
   "kernels_config": {
    "python": {
     "delete_cmd_postfix": "",
     "delete_cmd_prefix": "del ",
     "library": "var_list.py",
     "varRefreshCmd": "print(var_dic_list())"
    },
    "r": {
     "delete_cmd_postfix": ") ",
     "delete_cmd_prefix": "rm(",
     "library": "var_list.r",
     "varRefreshCmd": "cat(var_dic_list()) "
    }
   },
   "types_to_exclude": [
    "module",
    "function",
    "builtin_function_or_method",
    "instance",
    "_Feature"
   ],
   "window_display": false
  }
 },
 "nbformat": 4,
 "nbformat_minor": 5
}
